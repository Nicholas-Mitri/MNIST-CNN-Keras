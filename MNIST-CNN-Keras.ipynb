{
 "cells": [
  {
   "cell_type": "markdown",
   "metadata": {},
   "source": [
    "# MNIST CLASSIFICATION WITH CNN"
   ]
  },
  {
   "cell_type": "markdown",
   "metadata": {},
   "source": [
    "In this example, we leverage the simplicity and ease of modeling offered by Keras to create a CNN for the classification of hand-written digits from the popular MNIST dataset."
   ]
  },
  {
   "cell_type": "markdown",
   "metadata": {},
   "source": [
    "## Imports"
   ]
  },
  {
   "cell_type": "markdown",
   "metadata": {},
   "source": [
    "Import tensorflow, numpy, matplotlib, as well as the sequential model from Keras and the layer types we will be using to build the network."
   ]
  },
  {
   "cell_type": "code",
   "execution_count": null,
   "metadata": {},
   "outputs": [],
   "source": [
    "import tensorflow as tf\n",
    "import numpy as np\n",
    "\n",
    "from tensorflow.keras.models import Sequential\n",
    "from tensorflow.layers import Dense, Conv2D, Dropout, Flatten, MaxPooling2D\n",
    "\n",
    "from matplotlib import pyplot as plt\n",
    "%matplotlib inline"
   ]
  },
  {
   "cell_type": "markdown",
   "metadata": {},
   "source": [
    "## Load the MNIST Dataset from Keras"
   ]
  },
  {
   "cell_type": "markdown",
   "metadata": {},
   "source": [
    "Keras offers a collection of datasets through its datasets module. That provides an easy way for us to download and load a partitioned version of MNIST with 60,000 training examples and 10,000 testing examples. "
   ]
  },
  {
   "cell_type": "code",
   "execution_count": 64,
   "metadata": {},
   "outputs": [
    {
     "name": "stdout",
     "output_type": "stream",
     "text": [
      "(60000, 28, 28) (60000,)\n",
      "(10000, 28, 28) (10000,)\n"
     ]
    }
   ],
   "source": [
    "(x_train, y_train), (x_test, y_test) = tf.keras.datasets.mnist.load_data()\n",
    "print(x_train.shape, y_train.shape)\n",
    "print(x_test.shape, y_test.shape)"
   ]
  },
  {
   "cell_type": "markdown",
   "metadata": {},
   "source": [
    "## Reshape and normalize images"
   ]
  },
  {
   "cell_type": "markdown",
   "metadata": {},
   "source": [
    "Keras 2D convolutional layers require the input data to be 4D (data size, rows, cols, channels). The data is therefore reshaped accordingly. Also, as common practice, we normalize the data from the 0-255 range to 0-1. "
   ]
  },
  {
   "cell_type": "code",
   "execution_count": 65,
   "metadata": {},
   "outputs": [],
   "source": [
    "x_train = x_train.reshape(60000, 28, 28, 1)\n",
    "x_test = x_test.reshape(10000, 28, 28, 1)"
   ]
  },
  {
   "cell_type": "code",
   "execution_count": 66,
   "metadata": {},
   "outputs": [],
   "source": [
    "x_train = x_train.astype(np.float32)\n",
    "x_train /= 255 #normalize\n",
    "\n",
    "x_test = x_test.astype(np.float32)\n",
    "x_test /= 255 #normalize"
   ]
  },
  {
   "cell_type": "markdown",
   "metadata": {},
   "source": [
    "## Building the CNN "
   ]
  },
  {
   "cell_type": "markdown",
   "metadata": {},
   "source": [
    "The network is built using Keras' Sequential model. For this example, a simple model consisting of a single convolutional layer followed by pooling, flattening, and a single hidden layer DNN is utilized. The output of the DNN is a softmax dense layer.\n",
    "A dropout layer with a drop rate of 20% is used to counter overfitting. "
   ]
  },
  {
   "cell_type": "code",
   "execution_count": 70,
   "metadata": {},
   "outputs": [],
   "source": [
    "model = Sequential()\n",
    "model.add(Conv2D(28, kernel_size=(3,3), input_shape=(28,28,1), activation=tf.nn.relu, name='Conv1'))\n",
    "model.add(MaxPooling2D(pool_size=(2, 2), strides=2, name='maxpool1'))\n",
    "model.add(Flatten(name='flatten')) # Flattening the 2D arrays for fully connected layers\n",
    "model.add(Dense(128, activation=tf.nn.relu, name='Dense1'))\n",
    "model.add(Dropout(0.2, name='Dropout'))\n",
    "model.add(Dense(10,activation=tf.nn.softmax, name='Dense2'))"
   ]
  },
  {
   "cell_type": "code",
   "execution_count": 68,
   "metadata": {},
   "outputs": [
    {
     "name": "stdout",
     "output_type": "stream",
     "text": [
      "_________________________________________________________________\n",
      "Layer (type)                 Output Shape              Param #   \n",
      "=================================================================\n",
      "Conv1 (Conv2D)               (None, 26, 26, 28)        280       \n",
      "_________________________________________________________________\n",
      "maxpool1 (MaxPooling2D)      (None, 13, 13, 28)        0         \n",
      "_________________________________________________________________\n",
      "flatten (Flatten)            (None, 4732)              0         \n",
      "_________________________________________________________________\n",
      "Dense1 (Dense)               (None, 128)               605824    \n",
      "_________________________________________________________________\n",
      "Dropout (Dropout)            (None, 128)               0         \n",
      "_________________________________________________________________\n",
      "Dense2 (Dense)               (None, 10)                1290      \n",
      "=================================================================\n",
      "Total params: 607,394\n",
      "Trainable params: 607,394\n",
      "Non-trainable params: 0\n",
      "_________________________________________________________________\n"
     ]
    }
   ],
   "source": [
    "model.summary()"
   ]
  },
  {
   "cell_type": "markdown",
   "metadata": {},
   "source": [
    "## Compile and Fit"
   ]
  },
  {
   "cell_type": "code",
   "execution_count": 94,
   "metadata": {},
   "outputs": [
    {
     "name": "stdout",
     "output_type": "stream",
     "text": [
      "Epoch 1/20\n",
      "60000/60000 [==============================] - 22s 372us/step - loss: 0.0338 - acc: 0.9901\n",
      "Epoch 2/20\n",
      "60000/60000 [==============================] - 22s 364us/step - loss: 0.0274 - acc: 0.9921\n",
      "Epoch 3/20\n",
      "60000/60000 [==============================] - 22s 366us/step - loss: 0.0224 - acc: 0.9935\n",
      "Epoch 4/20\n",
      "60000/60000 [==============================] - 22s 366us/step - loss: 0.0184 - acc: 0.9947\n",
      "Epoch 5/20\n",
      "60000/60000 [==============================] - 22s 369us/step - loss: 0.0149 - acc: 0.9959\n",
      "Epoch 6/20\n",
      "60000/60000 [==============================] - 22s 366us/step - loss: 0.0123 - acc: 0.9968\n",
      "Epoch 7/20\n",
      "60000/60000 [==============================] - 22s 366us/step - loss: 0.0108 - acc: 0.9974\n",
      "Epoch 8/20\n",
      "60000/60000 [==============================] - 22s 368us/step - loss: 0.0090 - acc: 0.9979\n",
      "Epoch 9/20\n",
      "60000/60000 [==============================] - 22s 364us/step - loss: 0.0072 - acc: 0.9986\n",
      "Epoch 10/20\n",
      "60000/60000 [==============================] - 22s 368us/step - loss: 0.0066 - acc: 0.9987\n",
      "Epoch 11/20\n",
      "60000/60000 [==============================] - 22s 365us/step - loss: 0.0051 - acc: 0.9992\n",
      "Epoch 12/20\n",
      "60000/60000 [==============================] - 22s 362us/step - loss: 0.0040 - acc: 0.9995\n",
      "Epoch 13/20\n",
      "60000/60000 [==============================] - 22s 369us/step - loss: 0.0037 - acc: 0.9994\n",
      "Epoch 14/20\n",
      "60000/60000 [==============================] - 22s 362us/step - loss: 0.0034 - acc: 0.9994\n",
      "Epoch 15/20\n",
      "60000/60000 [==============================] - 22s 367us/step - loss: 0.0025 - acc: 0.9998\n",
      "Epoch 16/20\n",
      "60000/60000 [==============================] - 22s 366us/step - loss: 0.0022 - acc: 0.9998\n",
      "Epoch 17/20\n",
      "60000/60000 [==============================] - 22s 364us/step - loss: 0.0015 - acc: 0.9999\n",
      "Epoch 18/20\n",
      "60000/60000 [==============================] - 22s 369us/step - loss: 0.0012 - acc: 0.9999\n",
      "Epoch 19/20\n",
      "60000/60000 [==============================] - 22s 366us/step - loss: 0.0012 - acc: 1.0000\n",
      "Epoch 20/20\n",
      "60000/60000 [==============================] - 22s 367us/step - loss: 0.0013 - acc: 0.9998\n"
     ]
    },
    {
     "data": {
      "text/plain": [
       "<tensorflow.python.keras.callbacks.History at 0x288298062b0>"
      ]
     },
     "execution_count": 94,
     "metadata": {},
     "output_type": "execute_result"
    }
   ],
   "source": [
    "model.compile(optimizer='adam', \n",
    "              loss='sparse_categorical_crossentropy', \n",
    "              metrics=['accuracy'])\n",
    "model.fit(x=x_train,y=y_train, batch_size=500, epochs=20)"
   ]
  },
  {
   "cell_type": "markdown",
   "metadata": {},
   "source": [
    "## Predict Using Trained Model"
   ]
  },
  {
   "cell_type": "code",
   "execution_count": 95,
   "metadata": {},
   "outputs": [
    {
     "name": "stdout",
     "output_type": "stream",
     "text": [
      "Predicted label is 4\n"
     ]
    },
    {
     "data": {
      "image/png": "[encoded data removed]",
      "text/plain": [
       "<Figure size 432x288 with 1 Axes>"
      ]
     },
     "metadata": {
      "needs_background": "light"
     },
     "output_type": "display_data"
    }
   ],
   "source": [
    "image_index = np.random.randint(0,10000)\n",
    "plt.imshow(x_test[image_index].reshape(28, 28),cmap='Greys')\n",
    "pred = model.predict(x_test[image_index].reshape(1, 28, 28, 1))\n",
    "print('Predicted label is', pred.argmax())"
   ]
  },
  {
   "cell_type": "markdown",
   "metadata": {},
   "source": [
    "## Evaluate Final Model"
   ]
  },
  {
   "cell_type": "code",
   "execution_count": 96,
   "metadata": {},
   "outputs": [
    {
     "name": "stdout",
     "output_type": "stream",
     "text": [
      "The final model achieves 98.62% accuracy on the test partition.\n"
     ]
    }
   ],
   "source": [
    "pred = model.predict(x_test)\n",
    "pred_label = np.argmax(pred, axis=1)\n",
    "\n",
    "from sklearn.metrics import accuracy_score\n",
    "\n",
    "acc = accuracy_score(y_test, pred_label)\n",
    "print('The final model achieves {:04.2f}% accuracy on the test partition.'.format(acc*100))"
   ]
  }
 ],
 "metadata": {
  "kernelspec": {
   "display_name": "Python 3",
   "language": "python",
   "name": "python3"
  },
  "language_info": {
   "codemirror_mode": {
    "name": "ipython",
    "version": 3
   },
   "file_extension": ".py",
   "mimetype": "text/x-python",
   "name": "python",
   "nbconvert_exporter": "python",
   "pygments_lexer": "ipython3",
   "version": "3.6.2"
  }
 },
 "nbformat": 4,
 "nbformat_minor": 2
}
